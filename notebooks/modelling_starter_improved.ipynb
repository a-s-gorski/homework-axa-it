{
 "cells": [
  {
   "cell_type": "code",
   "execution_count": 1,
   "id": "e5255b48",
   "metadata": {},
   "outputs": [],
   "source": [
    "import pandas as pd\n",
    "from lightgbm import LGBMClassifier                                                                                                                                                                                                                                                                                                                                                             \n",
    "from sklearn.model_selection import train_test_split\n",
    "from sklearn.metrics import accuracy_score, precision_score, recall_score, f1_score, ConfusionMatrixDisplay\n",
    "import optuna\n",
    "\n",
    "import rdata\n",
    "import requests\n",
    "import io"
   ]
  },
  {
   "cell_type": "code",
   "execution_count": 2,
   "id": "d87cd924",
   "metadata": {},
   "outputs": [
    {
     "data": {
      "text/html": [
       "<div>\n",
       "<style scoped>\n",
       "    .dataframe tbody tr th:only-of-type {\n",
       "        vertical-align: middle;\n",
       "    }\n",
       "\n",
       "    .dataframe tbody tr th {\n",
       "        vertical-align: top;\n",
       "    }\n",
       "\n",
       "    .dataframe thead th {\n",
       "        text-align: right;\n",
       "    }\n",
       "</style>\n",
       "<table border=\"1\" class=\"dataframe\">\n",
       "  <thead>\n",
       "    <tr style=\"text-align: right;\">\n",
       "      <th></th>\n",
       "      <th>PolNum</th>\n",
       "      <th>CalYear</th>\n",
       "      <th>Gender</th>\n",
       "      <th>Type</th>\n",
       "      <th>Category</th>\n",
       "      <th>Occupation</th>\n",
       "      <th>Age</th>\n",
       "      <th>Group1</th>\n",
       "      <th>Bonus</th>\n",
       "      <th>Poldur</th>\n",
       "      <th>Value</th>\n",
       "      <th>Adind</th>\n",
       "      <th>SubGroup2</th>\n",
       "      <th>Group2</th>\n",
       "      <th>Density</th>\n",
       "      <th>Exppdays</th>\n",
       "      <th>Numtppd</th>\n",
       "      <th>Numtpbi</th>\n",
       "      <th>Indtppd</th>\n",
       "      <th>Indtpbi</th>\n",
       "    </tr>\n",
       "  </thead>\n",
       "  <tbody>\n",
       "    <tr>\n",
       "      <th>0</th>\n",
       "      <td>200114978</td>\n",
       "      <td>2009</td>\n",
       "      <td>Male</td>\n",
       "      <td>C</td>\n",
       "      <td>Large</td>\n",
       "      <td>Employed</td>\n",
       "      <td>25</td>\n",
       "      <td>18</td>\n",
       "      <td>90</td>\n",
       "      <td>3</td>\n",
       "      <td>15080</td>\n",
       "      <td>0</td>\n",
       "      <td>L46</td>\n",
       "      <td>L</td>\n",
       "      <td>72.012883</td>\n",
       "      <td>365</td>\n",
       "      <td>1</td>\n",
       "      <td>0</td>\n",
       "      <td>0.0</td>\n",
       "      <td>0.0</td>\n",
       "    </tr>\n",
       "    <tr>\n",
       "      <th>1</th>\n",
       "      <td>200114994</td>\n",
       "      <td>2009</td>\n",
       "      <td>Male</td>\n",
       "      <td>E</td>\n",
       "      <td>Large</td>\n",
       "      <td>Employed</td>\n",
       "      <td>20</td>\n",
       "      <td>11</td>\n",
       "      <td>30</td>\n",
       "      <td>2</td>\n",
       "      <td>22370</td>\n",
       "      <td>1</td>\n",
       "      <td>O38</td>\n",
       "      <td>O</td>\n",
       "      <td>39.550411</td>\n",
       "      <td>365</td>\n",
       "      <td>1</td>\n",
       "      <td>0</td>\n",
       "      <td>0.0</td>\n",
       "      <td>0.0</td>\n",
       "    </tr>\n",
       "    <tr>\n",
       "      <th>2</th>\n",
       "      <td>200115001</td>\n",
       "      <td>2009</td>\n",
       "      <td>Female</td>\n",
       "      <td>E</td>\n",
       "      <td>Large</td>\n",
       "      <td>Unemployed</td>\n",
       "      <td>42</td>\n",
       "      <td>11</td>\n",
       "      <td>150</td>\n",
       "      <td>0</td>\n",
       "      <td>39650</td>\n",
       "      <td>0</td>\n",
       "      <td>Q28</td>\n",
       "      <td>Q</td>\n",
       "      <td>169.529148</td>\n",
       "      <td>365</td>\n",
       "      <td>2</td>\n",
       "      <td>0</td>\n",
       "      <td>0.0</td>\n",
       "      <td>0.0</td>\n",
       "    </tr>\n",
       "    <tr>\n",
       "      <th>3</th>\n",
       "      <td>200115011</td>\n",
       "      <td>2009</td>\n",
       "      <td>Female</td>\n",
       "      <td>C</td>\n",
       "      <td>Medium</td>\n",
       "      <td>Housewife</td>\n",
       "      <td>21</td>\n",
       "      <td>5</td>\n",
       "      <td>0</td>\n",
       "      <td>0</td>\n",
       "      <td>12600</td>\n",
       "      <td>1</td>\n",
       "      <td>L6</td>\n",
       "      <td>L</td>\n",
       "      <td>58.894688</td>\n",
       "      <td>365</td>\n",
       "      <td>1</td>\n",
       "      <td>0</td>\n",
       "      <td>0.0</td>\n",
       "      <td>0.0</td>\n",
       "    </tr>\n",
       "    <tr>\n",
       "      <th>4</th>\n",
       "      <td>200115015</td>\n",
       "      <td>2009</td>\n",
       "      <td>Female</td>\n",
       "      <td>D</td>\n",
       "      <td>Large</td>\n",
       "      <td>Employed</td>\n",
       "      <td>33</td>\n",
       "      <td>12</td>\n",
       "      <td>30</td>\n",
       "      <td>10</td>\n",
       "      <td>9065</td>\n",
       "      <td>0</td>\n",
       "      <td>N4</td>\n",
       "      <td>N</td>\n",
       "      <td>109.631885</td>\n",
       "      <td>365</td>\n",
       "      <td>2</td>\n",
       "      <td>0</td>\n",
       "      <td>0.0</td>\n",
       "      <td>0.0</td>\n",
       "    </tr>\n",
       "  </tbody>\n",
       "</table>\n",
       "</div>"
      ],
      "text/plain": [
       "      PolNum  CalYear  Gender Type Category  Occupation  Age  Group1  Bonus  \\\n",
       "0  200114978     2009    Male    C    Large    Employed   25      18     90   \n",
       "1  200114994     2009    Male    E    Large    Employed   20      11     30   \n",
       "2  200115001     2009  Female    E    Large  Unemployed   42      11    150   \n",
       "3  200115011     2009  Female    C   Medium   Housewife   21       5      0   \n",
       "4  200115015     2009  Female    D    Large    Employed   33      12     30   \n",
       "\n",
       "   Poldur  Value  Adind SubGroup2 Group2     Density  Exppdays  Numtppd  \\\n",
       "0       3  15080      0       L46      L   72.012883       365        1   \n",
       "1       2  22370      1       O38      O   39.550411       365        1   \n",
       "2       0  39650      0       Q28      Q  169.529148       365        2   \n",
       "3       0  12600      1        L6      L   58.894688       365        1   \n",
       "4      10   9065      0        N4      N  109.631885       365        2   \n",
       "\n",
       "   Numtpbi  Indtppd  Indtpbi  \n",
       "0        0      0.0      0.0  \n",
       "1        0      0.0      0.0  \n",
       "2        0      0.0      0.0  \n",
       "3        0      0.0      0.0  \n",
       "4        0      0.0      0.0  "
      ]
     },
     "execution_count": 2,
     "metadata": {},
     "output_type": "execute_result"
    }
   ],
   "source": [
    "data = pd.read_csv(\"../data/pg15training.csv\")\n",
    "data.head()"
   ]
  },
  {
   "cell_type": "code",
   "execution_count": 4,
   "id": "2e2ade8a",
   "metadata": {},
   "outputs": [
    {
     "data": {
      "text/plain": [
       "Numtppd\n",
       "0    87744\n",
       "1    10358\n",
       "2     1518\n",
       "3      306\n",
       "4       62\n",
       "5       17\n",
       "6        9\n",
       "7        7\n",
       "Name: count, dtype: int64"
      ]
     },
     "execution_count": 4,
     "metadata": {},
     "output_type": "execute_result"
    }
   ],
   "source": [
    "data.Numtppd.value_counts()"
   ]
  },
  {
   "cell_type": "markdown",
   "id": "788be72f",
   "metadata": {},
   "source": [
    "### Note\n",
    "I do not really understand why all of the minority classes are merged into class 0, we should investigate them further."
   ]
  },
  {
   "cell_type": "code",
   "execution_count": 9,
   "id": "80925a1f",
   "metadata": {},
   "outputs": [
    {
     "data": {
      "text/plain": [
       "<Axes: ylabel='Frequency'>"
      ]
     },
     "execution_count": 9,
     "metadata": {},
     "output_type": "execute_result"
    },
    {
     "data": {
      "image/png": "[encoded data removed]",
      "text/plain": [
       "<Figure size 640x480 with 1 Axes>"
      ]
     },
     "metadata": {},
     "output_type": "display_data"
    }
   ],
   "source": [
    "data.Numtpbi.plot(kind='hist')"
   ]
  },
  {
   "cell_type": "code",
   "execution_count": 12,
   "id": "6d84a930",
   "metadata": {},
   "outputs": [
    {
     "data": {
      "text/plain": [
       "<Axes: ylabel='Frequency'>"
      ]
     },
     "execution_count": 12,
     "metadata": {},
     "output_type": "execute_result"
    },
    {
     "data": {
      "image/png": "[encoded data removed]",
      "text/plain": [
       "<Figure size 640x480 with 1 Axes>"
      ]
     },
     "metadata": {},
     "output_type": "display_data"
    }
   ],
   "source": [
    "data.Indtppd.plot(kind=\"hist\")"
   ]
  },
  {
   "cell_type": "code",
   "execution_count": null,
   "id": "806ea188",
   "metadata": {},
   "outputs": [],
   "source": [
    "data.Indtpbi.plot(kind=\"hist\")"
   ]
  }
 ],
 "metadata": {
  "kernelspec": {
   "display_name": ".venv",
   "language": "python",
   "name": "python3"
  },
  "language_info": {
   "codemirror_mode": {
    "name": "ipython",
    "version": 3
   },
   "file_extension": ".py",
   "mimetype": "text/x-python",
   "name": "python",
   "nbconvert_exporter": "python",
   "pygments_lexer": "ipython3",
   "version": "3.12.2"
  }
 },
 "nbformat": 4,
 "nbformat_minor": 5
}
